{
 "cells": [
  {
   "cell_type": "code",
   "execution_count": 29,
   "metadata": {},
   "outputs": [],
   "source": [
    "import pandas as pd\n",
    "import numpy as np\n",
    "\n",
    "from matplotlib import pyplot as plt\n",
    "from sklearn import preprocessing"
   ]
  },
  {
   "cell_type": "code",
   "execution_count": 30,
   "metadata": {},
   "outputs": [],
   "source": [
    "def normalize_data(df,features):\n",
    "    df_array = df.values\n",
    "    min_max_scaler = preprocessing.MinMaxScaler()\n",
    "    x_scaled = min_max_scaler.fit_transform(df_array)\n",
    "    df = pd.DataFrame(x_scaled,columns=features)\n",
    "    return df\n",
    "    "
   ]
  },
  {
   "cell_type": "code",
   "execution_count": 31,
   "metadata": {},
   "outputs": [],
   "source": [
    "def filter_data(data_path,labels_path):\n",
    "    # load data and set index to city, year, weekofyear\n",
    "    df = pd.read_csv(data_path, index_col=[0, 1, 2])\n",
    "\n",
    "    # add labels to dataframe\n",
    "    if labels_path:\n",
    "        labels = pd.read_csv(labels_path, index_col=[0, 1, 2])\n",
    "        df = df.join(labels)\n",
    "   \n",
    "    # drop missing values\n",
    "    df = df.fillna(df.mean())\n",
    "        \n",
    "    # separate san juan and iquitos\n",
    "    sj = df.loc['sj']\n",
    "    iq = df.loc['iq']\n",
    "    \n",
    "    return sj, iq"
   ]
  },
  {
   "cell_type": "code",
   "execution_count": 32,
   "metadata": {},
   "outputs": [],
   "source": [
    "def get_features_labels(dataset,count):\n",
    "    train_subtrain = dataset.head(count)\n",
    "    train_subtest = dataset.tail(dataset.shape[0] - count)\n",
    "    \n",
    "    return train_subtrain, train_subtest\n",
    "    "
   ]
  },
  {
   "cell_type": "code",
   "execution_count": 33,
   "metadata": {},
   "outputs": [],
   "source": [
    "#using lasso regression\n",
    "from sklearn.linear_model import Lasso\n",
    "from sklearn.metrics import mean_absolute_error\n",
    "\n",
    "def lasso_regressor(train_data,validation_data, alpha,features,label):\n",
    "    \n",
    "    #training dataset features\n",
    "    train_features = train_data[features]\n",
    "    train_features = normalize_data(train_features,features)\n",
    "    \n",
    "    #training dataset lables\n",
    "    train_labels = train_data[[label]]\n",
    "    \n",
    "    #validation dataset features\n",
    "    valid_features = validation_data[features]\n",
    "    valid_features = normalize_data(valid_features,features)\n",
    "    \n",
    "    #training dataset lables\n",
    "    valid_labels = validation_data[[label]]\n",
    "    \n",
    "    #Fit the model\n",
    "    lassoreg = Lasso(alpha=alpha,normalize=True, max_iter=1e5)\n",
    "    lassoreg.fit(train_features,train_labels)\n",
    "    y_pred = lassoreg.predict(valid_features)\n",
    "    \n",
    "    mae = mean_absolute_error(valid_labels,y_pred)\n",
    "    \n",
    "    print(\"Mean Absolute Error for :\",alpha,\" \",mae)\n",
    "    \n",
    "    return lassoreg, mae"
   ]
  },
  {
   "cell_type": "code",
   "execution_count": 34,
   "metadata": {},
   "outputs": [],
   "source": [
    "def get_best_model(train, validation,features,label,s,t):\n",
    "    grid = 10 ** np.arange(s, t, dtype=np.float64)\n",
    "                    \n",
    "    best_alpha = []\n",
    "    best_score = 1000\n",
    "        \n",
    "    for alpha in grid:\n",
    "        model, mae = lasso_regressor(train,validation,alpha,features,label)\n",
    "\n",
    "        if mae < best_score:\n",
    "            best_alpha = alpha\n",
    "            best_score = mae\n",
    "\n",
    "    print('best alpha = ', best_alpha)\n",
    "    print('best score = ', best_score)\n",
    "            \n",
    "    full_dataset = pd.concat([train, validation])\n",
    "    fitted_model = lasso_regressor(full_dataset,validation,alpha,features,label)\n",
    "    \n",
    "    return fitted_model"
   ]
  },
  {
   "cell_type": "code",
   "execution_count": 35,
   "metadata": {},
   "outputs": [],
   "source": [
    "train_sj, train_iq = filter_data(\"./data/dengue_features_train.csv\",\"./data/dengue_labels_train.csv\")\n",
    "train_sj = train_sj.drop('week_start_date',axis=1)\n",
    "train_iq = train_iq.drop('week_start_date',axis=1)"
   ]
  },
  {
   "cell_type": "code",
   "execution_count": 36,
   "metadata": {},
   "outputs": [],
   "source": [
    "training_sj, validation_sj = get_features_labels(train_sj,800)\n",
    "training_iq, validation_iq = get_features_labels(train_iq,400)"
   ]
  },
  {
   "cell_type": "code",
   "execution_count": 37,
   "metadata": {},
   "outputs": [
    {
     "name": "stdout",
     "output_type": "stream",
     "text": [
      "Mean Absolute Error for : 1e-10   22.49863836654915\n",
      "Mean Absolute Error for : 1e-09   22.498637562492146\n",
      "Mean Absolute Error for : 1e-08   22.49862952180735\n",
      "Mean Absolute Error for : 1e-07   22.498549116159626\n",
      "Mean Absolute Error for : 1e-06   22.497745050181706\n",
      "Mean Absolute Error for : 1e-05   22.489704486170876\n",
      "Mean Absolute Error for : 0.0001   22.40930230218315\n",
      "Mean Absolute Error for : 0.001   21.61565956452088\n",
      "Mean Absolute Error for : 0.01   20.098731004896088\n",
      "best alpha =  0.01\n",
      "best score =  20.098731004896088\n",
      "Mean Absolute Error for : 0.01   19.04368553785062\n"
     ]
    }
   ],
   "source": [
    "features = ['station_avg_temp_c','reanalysis_dew_point_temp_k','reanalysis_specific_humidity_g_per_kg','station_min_temp_c']\n",
    "label = \"total_cases\"\n",
    "model_sj,mae_sj = get_best_model(training_sj,validation_sj,features,label,-10,-1)\n"
   ]
  },
  {
   "cell_type": "code",
   "execution_count": 38,
   "metadata": {},
   "outputs": [
    {
     "name": "stderr",
     "output_type": "stream",
     "text": [
      "/home/supimi/.local/lib/python3.6/site-packages/sklearn/linear_model/coordinate_descent.py:475: ConvergenceWarning: Objective did not converge. You might want to increase the number of iterations. Duality gap: 21049.110102296905, tolerance: 4.562391000000001\n",
      "  positive)\n",
      "/home/supimi/.local/lib/python3.6/site-packages/sklearn/linear_model/coordinate_descent.py:475: ConvergenceWarning: Objective did not converge. You might want to increase the number of iterations. Duality gap: 20974.972196729483, tolerance: 4.562391000000001\n",
      "  positive)\n"
     ]
    },
    {
     "name": "stdout",
     "output_type": "stream",
     "text": [
      "Mean Absolute Error for : 1e-20   6.851716568656809\n",
      "Mean Absolute Error for : 1e-19   6.851716568656809\n",
      "Mean Absolute Error for : 1e-18   6.851716568656989\n",
      "Mean Absolute Error for : 1e-17   6.851716568656778\n",
      "Mean Absolute Error for : 1e-16   6.851716568656642\n",
      "Mean Absolute Error for : 1e-15   6.851716568656403\n",
      "Mean Absolute Error for : 1e-14   6.851716568653456\n",
      "Mean Absolute Error for : 1e-13   6.851716568623782\n",
      "Mean Absolute Error for : 1e-12   6.851716568327221\n",
      "Mean Absolute Error for : 1e-11   6.851716565361618\n",
      "best alpha =  1e-11\n",
      "best score =  6.851716565361618\n",
      "Mean Absolute Error for : 1e-11   6.928975984434177\n"
     ]
    },
    {
     "name": "stderr",
     "output_type": "stream",
     "text": [
      "/home/supimi/.local/lib/python3.6/site-packages/sklearn/linear_model/coordinate_descent.py:475: ConvergenceWarning: Objective did not converge. You might want to increase the number of iterations. Duality gap: 20533.79620215346, tolerance: 4.562391000000001\n",
      "  positive)\n"
     ]
    }
   ],
   "source": [
    "model_iq,mae_iq = get_best_model(training_iq,validation_iq,features,label,-20,-10)"
   ]
  },
  {
   "cell_type": "code",
   "execution_count": 39,
   "metadata": {},
   "outputs": [
    {
     "name": "stderr",
     "output_type": "stream",
     "text": [
      "/home/supimi/.local/lib/python3.6/site-packages/pandas/core/frame.py:4034: SettingWithCopyWarning: \n",
      "A value is trying to be set on a copy of a slice from a DataFrame\n",
      "\n",
      "See the caveats in the documentation: http://pandas.pydata.org/pandas-docs/stable/indexing.html#indexing-view-versus-copy\n",
      "  downcast=downcast, **kwargs)\n"
     ]
    }
   ],
   "source": [
    "deng_features_test_df = pd.read_csv(\"./data/dengue_features_test.csv\", sep=\",\", index_col= [0,1,2])\n",
    "pred_dataset = deng_features_test_df[features]\n",
    "pred_dataset.head()\n",
    "\n",
    "\n",
    "pred_dataset_sj = pred_dataset.loc['sj']\n",
    "pred_dataset_sj.fillna(method='ffill', inplace=True)\n",
    "\n",
    "pred_dataset_iq = pred_dataset.loc['iq']\n",
    "pred_dataset_iq.fillna(method='ffill', inplace=True)"
   ]
  },
  {
   "cell_type": "code",
   "execution_count": 40,
   "metadata": {},
   "outputs": [],
   "source": [
    "pred_dataset_sj = normalize_data(pred_dataset_sj,features)\n",
    "pred_dataset_iq = normalize_data(pred_dataset_iq,features)"
   ]
  },
  {
   "cell_type": "code",
   "execution_count": 41,
   "metadata": {},
   "outputs": [],
   "source": [
    "predictions_sj = model_sj.predict(pred_dataset_sj).astype(int)\n",
    "predictions_iq = model_iq.predict(pred_dataset_iq).astype(int)"
   ]
  },
  {
   "cell_type": "code",
   "execution_count": 42,
   "metadata": {},
   "outputs": [],
   "source": [
    "submission = pd.read_csv(\"./data/submission_format.csv\",\n",
    "                         index_col=[0, 1, 2])\n",
    "\n",
    "submission.total_cases = np.concatenate([predictions_sj, predictions_iq])\n",
    "submission.to_csv(\"./data/submission_normalized.csv\")"
   ]
  },
  {
   "cell_type": "code",
   "execution_count": null,
   "metadata": {},
   "outputs": [],
   "source": []
  }
 ],
 "metadata": {
  "kernelspec": {
   "display_name": "Python 3",
   "language": "python",
   "name": "python3"
  },
  "language_info": {
   "codemirror_mode": {
    "name": "ipython",
    "version": 3
   },
   "file_extension": ".py",
   "mimetype": "text/x-python",
   "name": "python",
   "nbconvert_exporter": "python",
   "pygments_lexer": "ipython3",
   "version": "3.6.7"
  }
 },
 "nbformat": 4,
 "nbformat_minor": 2
}
